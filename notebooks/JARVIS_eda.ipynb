{
 "cells": [
  {
   "cell_type": "markdown",
   "id": "fd9fdb25",
   "metadata": {},
   "source": [
    "# JARVIS EDA"
   ]
  },
  {
   "cell_type": "code",
   "execution_count": 4,
   "id": "9a475c06",
   "metadata": {},
   "outputs": [],
   "source": [
    "# Imports\n",
    "import pandas as pd\n",
    "from jarvis.db.figshare import data"
   ]
  },
  {
   "cell_type": "markdown",
   "id": "e6c9c8ed",
   "metadata": {},
   "source": [
    "### Checkpoint 1: Import 3D DFT Data from JARVIS and Pickel it\n"
   ]
  },
  {
   "cell_type": "code",
   "execution_count": 5,
   "id": "2dd03ef2",
   "metadata": {},
   "outputs": [
    {
     "name": "stdout",
     "output_type": "stream",
     "text": [
      "Obtaining 3D dataset 76k ...\n",
      "Reference:https://www.nature.com/articles/s41524-020-00440-1\n",
      "Other versions:https://doi.org/10.6084/m9.figshare.6815699\n",
      "Loading the zipfile...\n",
      "Loading completed.\n"
     ]
    }
   ],
   "source": [
    "dft_data = data('dft_3d')\n",
    "df = pd.DataFrame(dft_data)\n",
    "df.to_pickle('jarvis_dft_3d.pkl')"
   ]
  },
  {
   "cell_type": "markdown",
   "id": "402b4951",
   "metadata": {},
   "source": [
    "- Features for semi-conductivity\n",
    "    - `optb88vdw_bandgap`, `mbj_bandgap`, and `hse_gap` -> band gaps\n",
    "    - `ehull` and `formation_energy_peratom` -> thermodynamic stability\n",
    "    - `effective_masses_300K`, `avg_elec_mass`, `avg_hole_mass` -> electron mobility\n",
    "    - `epsx`, `epsy`, `epsz` -> dielectric properties\n",
    "     "
   ]
  },
  {
   "cell_type": "code",
   "execution_count": 6,
   "id": "d877c868",
   "metadata": {},
   "outputs": [
    {
     "name": "stdout",
     "output_type": "stream",
     "text": [
      "['jid', 'spg_number', 'spg_symbol', 'formula', 'formation_energy_peratom', 'func', 'optb88vdw_bandgap', 'atoms', 'slme', 'magmom_oszicar', 'spillage', 'elastic_tensor', 'effective_masses_300K', 'kpoint_length_unit', 'maxdiff_mesh', 'maxdiff_bz', 'encut', 'optb88vdw_total_energy', 'epsx', 'epsy', 'epsz', 'mepsx', 'mepsy', 'mepsz', 'modes', 'magmom_outcar', 'max_efg', 'avg_elec_mass', 'avg_hole_mass', 'icsd', 'dfpt_piezo_max_eij', 'dfpt_piezo_max_dij', 'dfpt_piezo_max_dielectric', 'dfpt_piezo_max_dielectric_electronic', 'dfpt_piezo_max_dielectric_ionic', 'max_ir_mode', 'min_ir_mode', 'n-Seebeck', 'p-Seebeck', 'n-powerfact', 'p-powerfact', 'ncond', 'pcond', 'nkappa', 'pkappa', 'ehull', 'Tc_supercon', 'dimensionality', 'efg', 'xml_data_link', 'typ', 'exfoliation_energy', 'spg', 'crys', 'density', 'poisson', 'raw_files', 'nat', 'bulk_modulus_kv', 'shear_modulus_gv', 'mbj_bandgap', 'hse_gap', 'reference', 'search']\n"
     ]
    }
   ],
   "source": [
    "features = df.columns.tolist()\n",
    "print(features)"
   ]
  },
  {
   "cell_type": "markdown",
   "id": "54473dd7",
   "metadata": {},
   "source": [
    "### Checkpoint 2: Filter Out Semi-Conductors and Transparent Semi-conductors, then store as CSV \n"
   ]
  },
  {
   "cell_type": "code",
   "execution_count": 7,
   "id": "5438aab3",
   "metadata": {},
   "outputs": [],
   "source": [
    "def has_element(atoms_dict, element='O'):\n",
    "    atoms = Atoms.from_dict(atoms_dict)\n",
    "    return element in atoms.elements\n",
    "\n",
    "def filter_semiconductors(df, band_gap_min = 0.1, band_gap_method = 'optb88vdw_bandgap'):\n",
    "    df[band_gap_method] = pd.to_numeric(df[band_gap_method], errors='coerce')\n",
    "    df['ehull'] = pd.to_numeric(df['ehull'], errors='coerce')\n",
    "    df = df.dropna(subset=[band_gap_method, 'ehull'])\n",
    "    df['has_oxygen'] = df['atoms'].apply(lambda x: has_element(x, 'O'))\n",
    "    semis = df[\n",
    "        (df[band_gap_method] > band_gap_min) &\n",
    "        (df['ehull'] <= 0.1) &\n",
    "        (df['has_oxygen'] == True)\n",
    "        ]\n",
    "    return semis"
   ]
  },
  {
   "cell_type": "code",
   "execution_count": 9,
   "id": "7f3675bb",
   "metadata": {},
   "outputs": [
    {
     "name": "stderr",
     "output_type": "stream",
     "text": [
      "/tmp/ipykernel_6347/3760232568.py:9: SettingWithCopyWarning: \n",
      "A value is trying to be set on a copy of a slice from a DataFrame.\n",
      "Try using .loc[row_indexer,col_indexer] = value instead\n",
      "\n",
      "See the caveats in the documentation: https://pandas.pydata.org/pandas-docs/stable/user_guide/indexing.html#returning-a-view-versus-a-copy\n",
      "  df['has_oxygen'] = df['atoms'].apply(lambda x: has_element(x, 'O'))\n",
      "/tmp/ipykernel_6347/3760232568.py:9: SettingWithCopyWarning: \n",
      "A value is trying to be set on a copy of a slice from a DataFrame.\n",
      "Try using .loc[row_indexer,col_indexer] = value instead\n",
      "\n",
      "See the caveats in the documentation: https://pandas.pydata.org/pandas-docs/stable/user_guide/indexing.html#returning-a-view-versus-a-copy\n",
      "  df['has_oxygen'] = df['atoms'].apply(lambda x: has_element(x, 'O'))\n",
      "/tmp/ipykernel_6347/3760232568.py:9: SettingWithCopyWarning: \n",
      "A value is trying to be set on a copy of a slice from a DataFrame.\n",
      "Try using .loc[row_indexer,col_indexer] = value instead\n",
      "\n",
      "See the caveats in the documentation: https://pandas.pydata.org/pandas-docs/stable/user_guide/indexing.html#returning-a-view-versus-a-copy\n",
      "  df['has_oxygen'] = df['atoms'].apply(lambda x: has_element(x, 'O'))\n",
      "/tmp/ipykernel_6347/3760232568.py:9: SettingWithCopyWarning: \n",
      "A value is trying to be set on a copy of a slice from a DataFrame.\n",
      "Try using .loc[row_indexer,col_indexer] = value instead\n",
      "\n",
      "See the caveats in the documentation: https://pandas.pydata.org/pandas-docs/stable/user_guide/indexing.html#returning-a-view-versus-a-copy\n",
      "  df['has_oxygen'] = df['atoms'].apply(lambda x: has_element(x, 'O'))\n"
     ]
    },
    {
     "name": "stdout",
     "output_type": "stream",
     "text": [
      "Saved 8520 entries to semis_vdw.csv\n",
      "Saved 2828 entries to semis_mbj.csv\n",
      "Saved 12 entries to semis_hse.csv\n",
      "Saved 3185 entries to transparent_semis_vdw.csv\n",
      "Saved 1879 entries to transparent_semis_mbj.csv\n",
      "Saved 10 entries to transparent_semis_hse.csv\n"
     ]
    }
   ],
   "source": [
    "import pandas as pd\n",
    "import numpy as np\n",
    "from jarvis.core.atoms import Atoms\n",
    "\n",
    "# Read in pickled data\n",
    "df = pd.read_pickle('jarvis_dft_3d.pkl')\n",
    "\n",
    "# Filter Semi-Conductors Using 3 Different Bandgap Estimations\n",
    "semis_vdw = filter_semiconductors(df, 0.1)\n",
    "semis_mbj = filter_semiconductors(df, 0.1, \"mbj_bandgap\")\n",
    "semis_hse = filter_semiconductors(df, 0.1, \"hse_gap\")\n",
    "\n",
    "# Filter Transparent Semi-Conductors Using 3 Different Bandgap Estimations\n",
    "transparent_semis_vdw = filter_semiconductors(df, 3.0)\n",
    "transparent_semis_mbj = filter_semiconductors(df, 3.0, \"mbj_bandgap\")\n",
    "transparent_semis_hse = filter_semiconductors(df, 3.0, \"hse_gap\")\n",
    "\n",
    "\n",
    "semis_vdw.to_csv('semis_vdw.csv', index=False)\n",
    "print(f\"Saved {len(semis_vdw)} entries to semis_vdw.csv\")\n",
    "semis_mbj.to_csv('semis_vdw.mbj', index=False)\n",
    "print(f\"Saved {len(semis_mbj)} entries to semis_mbj.csv\")\n",
    "semis_hse.to_csv('semis_vdw.hse', index=False)\n",
    "print(f\"Saved {len(semis_hse)} entries to semis_hse.csv\")\n",
    "\n",
    "transparent_semis_vdw.to_csv('transparent_semis_vdw.csv', index=False)\n",
    "print(f\"Saved {len(transparent_semis_vdw)} entries to transparent_semis_vdw.csv\")\n",
    "transparent_semis_mbj.to_csv('transparent_semis_mbj.csv', index=False)\n",
    "print(f\"Saved {len(transparent_semis_mbj)} entries to transparent_semis_mbj.csv\")\n",
    "transparent_semis_hse.to_csv('transparent_semis_mbj.hse', index=False)\n",
    "print(f\"Saved {len(transparent_semis_hse)} entries to transparent_semis_hse.csv\")"
   ]
  },
  {
   "cell_type": "code",
   "execution_count": null,
   "id": "8d2f4d0b",
   "metadata": {},
   "outputs": [],
   "source": []
  }
 ],
 "metadata": {
  "kernelspec": {
   "display_name": "jarvis-env",
   "language": "python",
   "name": "python3"
  },
  "language_info": {
   "codemirror_mode": {
    "name": "ipython",
    "version": 3
   },
   "file_extension": ".py",
   "mimetype": "text/x-python",
   "name": "python",
   "nbconvert_exporter": "python",
   "pygments_lexer": "ipython3",
   "version": "3.12.0"
  }
 },
 "nbformat": 4,
 "nbformat_minor": 5
}
