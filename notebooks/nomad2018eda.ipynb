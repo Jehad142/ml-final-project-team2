{
 "cells": [
  {
   "cell_type": "markdown",
   "id": "6fe6dfe0-49d9-4da1-85eb-70a04bc62f81",
   "metadata": {},
   "source": [
    "# EDA for NOMAD 2018 Transparent Conductors Dataset"
   ]
  },
  {
   "cell_type": "code",
   "execution_count": 2,
   "id": "bd517b35-9059-40d8-935c-1e71b948d72d",
   "metadata": {},
   "outputs": [],
   "source": [
    "import zipfile\n",
    "import pandas as pd\n",
    "import matplotlib.pyplot as plt\n",
    "import seaborn as sns\n",
    "import os"
   ]
  },
  {
   "cell_type": "code",
   "execution_count": 3,
   "id": "5d22f765-5eef-4609-8e56-9bc6dcdf85fd",
   "metadata": {},
   "outputs": [
    {
     "name": "stdout",
     "output_type": "stream",
     "text": [
      "Unzipped to: ../data/nomad2018\n",
      "Contents: ['test.zip', 'test.csv.zip', 'train.zip', 'train.csv.zip', 'sample_submission.csv.zip']\n"
     ]
    }
   ],
   "source": [
    "# paths\n",
    "zip_path = \"../data/nomad2018-predict-transparent-conductors.zip\"\n",
    "extract_path = \"../data/nomad2018\"\n",
    "\n",
    "# create target directory... if needed\n",
    "os.makedirs(extract_path, exist_ok=True)\n",
    "\n",
    "# unzip all contents\n",
    "with zipfile.ZipFile(zip_path, 'r') as zip_ref:\n",
    "    zip_ref.extractall(extract_path)\n",
    "\n",
    "print(\"Unzipped to:\", extract_path)\n",
    "print(\"Contents:\", os.listdir(extract_path))"
   ]
  },
  {
   "cell_type": "code",
   "execution_count": 4,
   "id": "182294e1-2559-4933-b1e0-a4771ad97bf8",
   "metadata": {},
   "outputs": [],
   "source": [
    "nested_zip_path = os.path.join(extract_path, \"train.csv.zip\")\n",
    "with zipfile.ZipFile(nested_zip_path, 'r') as zip_ref:\n",
    "    zip_ref.extractall(os.path.join(extract_path))\n",
    "\n",
    "nested_zip_path = os.path.join(extract_path, \"test.csv.zip\")\n",
    "with zipfile.ZipFile(nested_zip_path, 'r') as zip_ref:\n",
    "    zip_ref.extractall(os.path.join(extract_path))"
   ]
  },
  {
   "cell_type": "code",
   "execution_count": 5,
   "id": "30dc0c7b-7660-4d42-b0cf-f7cff98e9de7",
   "metadata": {},
   "outputs": [
    {
     "name": "stdout",
     "output_type": "stream",
     "text": [
      "sample_submission.csv.zip test.zip                  train.zip\n",
      "test.csv                  train.csv\n",
      "test.csv.zip              train.csv.zip\n"
     ]
    }
   ],
   "source": [
    "!ls $extract_path"
   ]
  },
  {
   "cell_type": "code",
   "execution_count": 6,
   "id": "97525ba2-28de-46ba-b231-f3eedfaec984",
   "metadata": {},
   "outputs": [
    {
     "name": "stdout",
     "output_type": "stream",
     "text": [
      "Shape: (2400, 14)\n",
      "Columns: ['id', 'spacegroup', 'number_of_total_atoms', 'percent_atom_al', 'percent_atom_ga', 'percent_atom_in', 'lattice_vector_1_ang', 'lattice_vector_2_ang', 'lattice_vector_3_ang', 'lattice_angle_alpha_degree', 'lattice_angle_beta_degree', 'lattice_angle_gamma_degree', 'formation_energy_ev_natom', 'bandgap_energy_ev']\n"
     ]
    },
    {
     "data": {
      "text/html": [
       "<div>\n",
       "<style scoped>\n",
       "    .dataframe tbody tr th:only-of-type {\n",
       "        vertical-align: middle;\n",
       "    }\n",
       "\n",
       "    .dataframe tbody tr th {\n",
       "        vertical-align: top;\n",
       "    }\n",
       "\n",
       "    .dataframe thead th {\n",
       "        text-align: right;\n",
       "    }\n",
       "</style>\n",
       "<table border=\"1\" class=\"dataframe\">\n",
       "  <thead>\n",
       "    <tr style=\"text-align: right;\">\n",
       "      <th></th>\n",
       "      <th>id</th>\n",
       "      <th>spacegroup</th>\n",
       "      <th>number_of_total_atoms</th>\n",
       "      <th>percent_atom_al</th>\n",
       "      <th>percent_atom_ga</th>\n",
       "      <th>percent_atom_in</th>\n",
       "      <th>lattice_vector_1_ang</th>\n",
       "      <th>lattice_vector_2_ang</th>\n",
       "      <th>lattice_vector_3_ang</th>\n",
       "      <th>lattice_angle_alpha_degree</th>\n",
       "      <th>lattice_angle_beta_degree</th>\n",
       "      <th>lattice_angle_gamma_degree</th>\n",
       "      <th>formation_energy_ev_natom</th>\n",
       "      <th>bandgap_energy_ev</th>\n",
       "    </tr>\n",
       "  </thead>\n",
       "  <tbody>\n",
       "    <tr>\n",
       "      <th>0</th>\n",
       "      <td>1</td>\n",
       "      <td>33</td>\n",
       "      <td>80.0</td>\n",
       "      <td>0.6250</td>\n",
       "      <td>0.3750</td>\n",
       "      <td>0.000</td>\n",
       "      <td>9.9523</td>\n",
       "      <td>8.5513</td>\n",
       "      <td>9.1775</td>\n",
       "      <td>90.0026</td>\n",
       "      <td>90.0023</td>\n",
       "      <td>90.0017</td>\n",
       "      <td>0.0680</td>\n",
       "      <td>3.4387</td>\n",
       "    </tr>\n",
       "    <tr>\n",
       "      <th>1</th>\n",
       "      <td>2</td>\n",
       "      <td>194</td>\n",
       "      <td>80.0</td>\n",
       "      <td>0.6250</td>\n",
       "      <td>0.3750</td>\n",
       "      <td>0.000</td>\n",
       "      <td>6.1840</td>\n",
       "      <td>6.1838</td>\n",
       "      <td>23.6287</td>\n",
       "      <td>90.0186</td>\n",
       "      <td>89.9980</td>\n",
       "      <td>120.0025</td>\n",
       "      <td>0.2490</td>\n",
       "      <td>2.9210</td>\n",
       "    </tr>\n",
       "    <tr>\n",
       "      <th>2</th>\n",
       "      <td>3</td>\n",
       "      <td>227</td>\n",
       "      <td>40.0</td>\n",
       "      <td>0.8125</td>\n",
       "      <td>0.1875</td>\n",
       "      <td>0.000</td>\n",
       "      <td>9.7510</td>\n",
       "      <td>5.6595</td>\n",
       "      <td>13.9630</td>\n",
       "      <td>90.9688</td>\n",
       "      <td>91.1228</td>\n",
       "      <td>30.5185</td>\n",
       "      <td>0.1821</td>\n",
       "      <td>2.7438</td>\n",
       "    </tr>\n",
       "    <tr>\n",
       "      <th>3</th>\n",
       "      <td>4</td>\n",
       "      <td>167</td>\n",
       "      <td>30.0</td>\n",
       "      <td>0.7500</td>\n",
       "      <td>0.0000</td>\n",
       "      <td>0.250</td>\n",
       "      <td>5.0036</td>\n",
       "      <td>5.0034</td>\n",
       "      <td>13.5318</td>\n",
       "      <td>89.9888</td>\n",
       "      <td>90.0119</td>\n",
       "      <td>120.0017</td>\n",
       "      <td>0.2172</td>\n",
       "      <td>3.3492</td>\n",
       "    </tr>\n",
       "    <tr>\n",
       "      <th>4</th>\n",
       "      <td>5</td>\n",
       "      <td>194</td>\n",
       "      <td>80.0</td>\n",
       "      <td>0.0000</td>\n",
       "      <td>0.6250</td>\n",
       "      <td>0.375</td>\n",
       "      <td>6.6614</td>\n",
       "      <td>6.6612</td>\n",
       "      <td>24.5813</td>\n",
       "      <td>89.9960</td>\n",
       "      <td>90.0006</td>\n",
       "      <td>119.9893</td>\n",
       "      <td>0.0505</td>\n",
       "      <td>1.3793</td>\n",
       "    </tr>\n",
       "  </tbody>\n",
       "</table>\n",
       "</div>"
      ],
      "text/plain": [
       "   id  spacegroup  number_of_total_atoms  percent_atom_al  percent_atom_ga  \\\n",
       "0   1          33                   80.0           0.6250           0.3750   \n",
       "1   2         194                   80.0           0.6250           0.3750   \n",
       "2   3         227                   40.0           0.8125           0.1875   \n",
       "3   4         167                   30.0           0.7500           0.0000   \n",
       "4   5         194                   80.0           0.0000           0.6250   \n",
       "\n",
       "   percent_atom_in  lattice_vector_1_ang  lattice_vector_2_ang  \\\n",
       "0            0.000                9.9523                8.5513   \n",
       "1            0.000                6.1840                6.1838   \n",
       "2            0.000                9.7510                5.6595   \n",
       "3            0.250                5.0036                5.0034   \n",
       "4            0.375                6.6614                6.6612   \n",
       "\n",
       "   lattice_vector_3_ang  lattice_angle_alpha_degree  \\\n",
       "0                9.1775                     90.0026   \n",
       "1               23.6287                     90.0186   \n",
       "2               13.9630                     90.9688   \n",
       "3               13.5318                     89.9888   \n",
       "4               24.5813                     89.9960   \n",
       "\n",
       "   lattice_angle_beta_degree  lattice_angle_gamma_degree  \\\n",
       "0                    90.0023                     90.0017   \n",
       "1                    89.9980                    120.0025   \n",
       "2                    91.1228                     30.5185   \n",
       "3                    90.0119                    120.0017   \n",
       "4                    90.0006                    119.9893   \n",
       "\n",
       "   formation_energy_ev_natom  bandgap_energy_ev  \n",
       "0                     0.0680             3.4387  \n",
       "1                     0.2490             2.9210  \n",
       "2                     0.1821             2.7438  \n",
       "3                     0.2172             3.3492  \n",
       "4                     0.0505             1.3793  "
      ]
     },
     "execution_count": 6,
     "metadata": {},
     "output_type": "execute_result"
    }
   ],
   "source": [
    "# load train.csv\n",
    "train_path = os.path.join(extract_path, \"train.csv\")\n",
    "df = pd.read_csv(train_path)\n",
    "\n",
    "# inspect\n",
    "print(\"Shape:\", df.shape)\n",
    "print(\"Columns:\", df.columns.tolist())\n",
    "df.head()"
   ]
  },
  {
   "cell_type": "code",
   "execution_count": 11,
   "id": "02436c22-42db-4771-ac9b-cc8e214e21d9",
   "metadata": {},
   "outputs": [
    {
     "name": "stdout",
     "output_type": "stream",
     "text": [
      "---- Data Info ----\n",
      "<class 'pandas.core.frame.DataFrame'>\n",
      "RangeIndex: 2400 entries, 0 to 2399\n",
      "Data columns (total 14 columns):\n",
      " #   Column                      Non-Null Count  Dtype  \n",
      "---  ------                      --------------  -----  \n",
      " 0   id                          2400 non-null   int64  \n",
      " 1   spacegroup                  2400 non-null   int64  \n",
      " 2   number_of_total_atoms       2400 non-null   float64\n",
      " 3   percent_atom_al             2400 non-null   float64\n",
      " 4   percent_atom_ga             2400 non-null   float64\n",
      " 5   percent_atom_in             2400 non-null   float64\n",
      " 6   lattice_vector_1_ang        2400 non-null   float64\n",
      " 7   lattice_vector_2_ang        2400 non-null   float64\n",
      " 8   lattice_vector_3_ang        2400 non-null   float64\n",
      " 9   lattice_angle_alpha_degree  2400 non-null   float64\n",
      " 10  lattice_angle_beta_degree   2400 non-null   float64\n",
      " 11  lattice_angle_gamma_degree  2400 non-null   float64\n",
      " 12  formation_energy_ev_natom   2400 non-null   float64\n",
      " 13  bandgap_energy_ev           2400 non-null   float64\n",
      "dtypes: float64(12), int64(2)\n",
      "memory usage: 262.6 KB\n"
     ]
    }
   ],
   "source": [
    "print(\"---- Data Info ----\")\n",
    "df.info()"
   ]
  },
  {
   "cell_type": "code",
   "execution_count": 20,
   "id": "f37d20d2-0bef-4628-83dd-d3ac02a52bbf",
   "metadata": {},
   "outputs": [
    {
     "data": {
      "text/plain": [
       "Text(0, 0.5, 'Number of Molecules')"
      ]
     },
     "execution_count": 20,
     "metadata": {},
     "output_type": "execute_result"
    },
    {
     "data": {
      "image/png": "[encoded data removed]",
      "text/plain": [
       "<Figure size 504x360 with 1 Axes>"
      ]
     },
     "metadata": {
      "needs_background": "light"
     },
     "output_type": "display_data"
    }
   ],
   "source": [
    "# Formation Energy - How stable is the molecule?\n",
    "\n",
    "plt.figure(figsize=(7, 5))\n",
    "ax1 = sns.histplot(df['formation_energy_ev_natom'], bins = 30, kde=True)\n",
    "ax1.set_title('Distribution of Formation Energy ')\n",
    "ax1.set_xlabel('Formation Energy (ev/natom)')\n",
    "ax1.set_ylabel('Number of Molecules')\n",
    "\n"
   ]
  },
  {
   "cell_type": "code",
   "execution_count": null,
   "id": "08b230e4-a9a3-4b1a-905f-3ca3d3192f9e",
   "metadata": {},
   "outputs": [],
   "source": [
    "# The change in energy when one mole of a substance is formed from its constituent elements in their standard states\n",
    "# most common \"instability\" level is around 0.1-0.2 eV/atom ; 0 is stable\n"
   ]
  },
  {
   "cell_type": "code",
   "execution_count": 24,
   "id": "cb208d03-6b79-4698-9d0c-f6e66c9e89bf",
   "metadata": {},
   "outputs": [
    {
     "data": {
      "text/plain": [
       "Text(0, 0.5, 'Number of Materials')"
      ]
     },
     "execution_count": 24,
     "metadata": {},
     "output_type": "execute_result"
    },
    {
     "data": {
      "image/png": "[encoded data removed]",
      "text/plain": [
       "<Figure size 504x360 with 1 Axes>"
      ]
     },
     "metadata": {
      "needs_background": "light"
     },
     "output_type": "display_data"
    }
   ],
   "source": [
    "# Band Gap - How transparent is the molecule? Semiconductor Properties?\n",
    "\n",
    "plt.figure(figsize=(7, 5)) \n",
    "ax2 = sns.histplot(df['bandgap_energy_ev'], bins=30, kde=True)\n",
    "ax2.set_title('Distribution of Band Gap')\n",
    "ax2.set_xlabel('Band Gap (eV)')\n",
    "ax2.set_ylabel('Number of Materials')"
   ]
  },
  {
   "cell_type": "code",
   "execution_count": 23,
   "id": "d91c56d4-2fa5-49b8-8c34-e2861fbcf85b",
   "metadata": {},
   "outputs": [],
   "source": [
    "# Band gap is the energy (in electron-Volts) required to excite an electron, making it conductive.\n",
    "# Low Band Gap (< 1.5 eV): These are opaque semiconductors (like silicon) or metals, they absorb visible light.\n",
    "# High Band Gap (> 3.1 eV): These are transparent to visible light because the light's energy isn't high enough to excite the electrons.\n",
    "# Very High Band Gap (> 4.0 eV): These are typically insulators, which are very hard to make conductive."
   ]
  },
  {
   "cell_type": "code",
   "execution_count": null,
   "id": "540f8d16-16ac-4699-a233-30d4df98ae87",
   "metadata": {},
   "outputs": [],
   "source": []
  }
 ],
 "metadata": {
  "kernelspec": {
   "display_name": "Python 3 (ipykernel)",
   "language": "python",
   "name": "python3"
  },
  "language_info": {
   "codemirror_mode": {
    "name": "ipython",
    "version": 3
   },
   "file_extension": ".py",
   "mimetype": "text/x-python",
   "name": "python",
   "nbconvert_exporter": "python",
   "pygments_lexer": "ipython3",
   "version": "3.9.7"
  }
 },
 "nbformat": 4,
 "nbformat_minor": 5
}
